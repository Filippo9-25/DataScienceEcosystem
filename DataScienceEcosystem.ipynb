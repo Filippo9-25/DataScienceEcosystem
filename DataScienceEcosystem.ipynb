{
 "cells": [
  {
   "cell_type": "markdown",
   "id": "1dff1bc5-2f76-49fd-b956-96f14688fbc4",
   "metadata": {},
   "source": [
    "# Data Science Tools and Ecosystem "
   ]
  },
  {
   "cell_type": "markdown",
   "id": "c3c049f7-504e-481b-be45-133643ca4af3",
   "metadata": {},
   "source": [
    "In this notebook, Data Science Tools and Ecosystem are summarized."
   ]
  },
  {
   "cell_type": "markdown",
   "id": "406200ef-2449-4b53-91dd-738270d54a23",
   "metadata": {},
   "source": [
    "__Objectives__:\n",
    "- List the most popular languages for Data Science\n",
    "- Create a table with three development environment open source tools\n",
    "- Demonstrate the use of comments\n",
    "- Show simple arithmetic expressions"
   ]
  },
  {
   "cell_type": "markdown",
   "id": "0646da40-ee2c-48f9-ae16-61b48f69e6be",
   "metadata": {},
   "source": [
    "Some of the popular languages that Data Scientist use are:\n",
    "1. Python\n",
    "2. R\n",
    "3. SQL\n",
    "4. Julia\n",
    "5. Java\n",
    "6. C++"
   ]
  },
  {
   "cell_type": "markdown",
   "id": "fcb60db8-2de7-444c-8b64-a746d42d78d4",
   "metadata": {},
   "source": [
    "Some of the commonly used libraries used by Data Scientist include:\n",
    "1. Pandas \n",
    "2. NumPy\n",
    "3. dplyr\n",
    "4. ggplot2"
   ]
  },
  {
   "cell_type": "markdown",
   "id": "3b0e6564-0c2d-472c-b064-3e3dbcaf5571",
   "metadata": {},
   "source": [
    "|Data Science Tools|\n",
    "|------------------|\n",
    "|RStudio|\n",
    "|Jupyter Notebook|\n",
    "|JupyterLab|"
   ]
  },
  {
   "cell_type": "markdown",
   "id": "e540772b-5934-451a-8597-2c5219b2440a",
   "metadata": {},
   "source": [
    "### Below are a few examples of evaluating arithmetic expressions in Python"
   ]
  },
  {
   "cell_type": "code",
   "execution_count": 40,
   "id": "c2163e2f-491c-48d6-8796-1774121d2405",
   "metadata": {},
   "outputs": [
    {
     "data": {
      "text/plain": [
       "17"
      ]
     },
     "execution_count": 40,
     "metadata": {},
     "output_type": "execute_result"
    }
   ],
   "source": [
    "#This is a simple arithmetic expression to multiply add integers\n",
    "(3*4)+5"
   ]
  },
  {
   "cell_type": "code",
   "execution_count": 42,
   "id": "482b5106-6c11-4727-b931-87787daa271f",
   "metadata": {},
   "outputs": [
    {
     "data": {
      "text/plain": [
       "3.3333333333333335"
      ]
     },
     "execution_count": 42,
     "metadata": {},
     "output_type": "execute_result"
    }
   ],
   "source": [
    "#This will convert 200 minutes to hours by dividing by 60\n",
    "200/60"
   ]
  },
  {
   "cell_type": "markdown",
   "id": "02a08650-11fa-4cca-9490-dac7cadeeb5f",
   "metadata": {},
   "source": [
    "## Author\n",
    "Filippo Brigida"
   ]
  },
  {
   "cell_type": "code",
   "execution_count": null,
   "id": "ee9b15d6-ba15-4cc9-bfaf-c86d8e2c03cf",
   "metadata": {},
   "outputs": [],
   "source": []
  }
 ],
 "metadata": {
  "kernelspec": {
   "display_name": "Python 3 (ipykernel)",
   "language": "python",
   "name": "python3"
  },
  "language_info": {
   "codemirror_mode": {
    "name": "ipython",
    "version": 3
   },
   "file_extension": ".py",
   "mimetype": "text/x-python",
   "name": "python",
   "nbconvert_exporter": "python",
   "pygments_lexer": "ipython3",
   "version": "3.12.7"
  }
 },
 "nbformat": 4,
 "nbformat_minor": 5
}
